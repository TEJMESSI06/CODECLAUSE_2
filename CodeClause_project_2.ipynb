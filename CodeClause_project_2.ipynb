{
  "nbformat": 4,
  "nbformat_minor": 0,
  "metadata": {
    "colab": {
      "provenance": []
    },
    "kernelspec": {
      "name": "python3",
      "display_name": "Python 3"
    },
    "language_info": {
      "name": "python"
    }
  },
  "cells": [
    {
      "cell_type": "markdown",
      "source": [
        "# **MOVIE RECOMMENDATION SYSTEM**"
      ],
      "metadata": {
        "id": "7v37T0682Ene"
      }
    },
    {
      "cell_type": "code",
      "source": [
        "import numpy as np\n",
        "import pandas as pd\n",
        "from scipy.sparse import csr_matrix\n",
        "from sklearn.neighbors import NearestNeighbors\n",
        "\n",
        "def load_data():\n",
        "    ratings = pd.read_csv(\"/content/drive/MyDrive/ratings.csv\")\n",
        "    movies = pd.read_csv(\"/content/drive/MyDrive/movies.csv\")\n",
        "    return ratings, movies\n",
        "\n",
        "def preprocess_data(ratings):\n",
        "    # Data cleaning and preprocessing here\n",
        "    return ratings\n",
        "\n",
        "def create_user_item_matrix(ratings):\n",
        "    N = len(ratings['userId'].unique())\n",
        "    M = len(ratings['movieId'].unique())\n",
        "\n",
        "    user_mapper = dict(zip(np.unique(ratings[\"userId\"]), list(range(N))))\n",
        "    movie_mapper = dict(zip(np.unique(ratings[\"movieId\"]), list(range(M))))\n",
        "\n",
        "    user_index = [user_mapper[i] for i in ratings['userId']]\n",
        "    movie_index = [movie_mapper[i] for i in ratings['movieId']]\n",
        "\n",
        "    X = csr_matrix((ratings[\"rating\"], (movie_index, user_index)), shape=(M, N))\n",
        "\n",
        "    return X, user_mapper, movie_mapper\n",
        "\n",
        "def precompute_similarities(X):\n",
        "    # Precompute and store similarities for faster retrieval\n",
        "    kNN = NearestNeighbors(n_neighbors=10, algorithm=\"brute\", metric=\"cosine\")\n",
        "    kNN.fit(X)\n",
        "    return kNN\n",
        "\n",
        "def find_similar_movies(movie_id, X, kNN, movie_mapper, movie_inv_mapper):\n",
        "    movie_ind = movie_mapper[movie_id]\n",
        "    movie_vec = X[movie_ind].reshape(1, -1)\n",
        "    distances, indices = kNN.kneighbors(movie_vec)\n",
        "    similar_movie_indices = indices[0]\n",
        "    similar_movie_ids = [movie_inv_mapper[i] for i in similar_movie_indices]\n",
        "    return similar_movie_ids\n",
        "\n",
        "def main():\n",
        "    ratings, movies = load_data()\n",
        "    ratings = preprocess_data(ratings)\n",
        "    X, user_mapper, movie_mapper = create_user_item_matrix(ratings)\n",
        "    kNN = precompute_similarities(X)\n",
        "\n",
        "    movie_id = 3\n",
        "\n",
        "    # Define movie_inv_mapper within main()\n",
        "    movie_inv_mapper = {v: k for k, v in movie_mapper.items()}\n",
        "\n",
        "    similar_movie_ids = find_similar_movies(movie_id, X, kNN, movie_mapper, movie_inv_mapper)\n",
        "    movie_titles = dict(zip(movies['movieId'], movies['title']))\n",
        "    movie_title = movie_titles[movie_id]\n",
        "\n",
        "    print(f\"Since you watched {movie_title}\")\n",
        "    for similar_id in similar_movie_ids:\n",
        "        print(movie_titles[similar_id])\n",
        "\n",
        "if __name__ == \"__main__\":\n",
        "    main()\n"
      ],
      "metadata": {
        "colab": {
          "base_uri": "https://localhost:8080/"
        },
        "id": "1mUOcvvPyRlw",
        "outputId": "44d33690-6ef3-4aea-b0eb-e2ed4db219ed"
      },
      "execution_count": 8,
      "outputs": [
        {
          "output_type": "stream",
          "name": "stdout",
          "text": [
            "Since you watched Grumpier Old Men (1995)\n",
            "Grumpier Old Men (1995)\n",
            "Grumpy Old Men (1993)\n",
            "Striptease (1996)\n",
            "Nutty Professor, The (1996)\n",
            "Twister (1996)\n",
            "Father of the Bride Part II (1995)\n",
            "Broken Arrow (1996)\n",
            "Bio-Dome (1996)\n",
            "Truth About Cats & Dogs, The (1996)\n",
            "Sabrina (1995)\n"
          ]
        }
      ]
    }
  ]
}